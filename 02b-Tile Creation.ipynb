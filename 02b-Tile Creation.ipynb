{
 "cells": [
  {
   "cell_type": "markdown",
   "id": "a67371ff",
   "metadata": {},
   "source": [
    "Citation: Richardson G, Knudby A, Chen W, Sawada M, Lovitt J, He L, et al. (2023) Dense neural network outperforms other machine learning models for scaling-up lichen cover maps in Eastern Canada. PLoS ONE 18(11): e0292839. https://doi.org/10.1371/journal.pone.0292839"
   ]
  },
  {
   "cell_type": "code",
   "execution_count": 9,
   "id": "7e12dd9a",
   "metadata": {
    "scrolled": true
   },
   "outputs": [],
   "source": [
    "import numpy as np \n",
    "from pathlib import Path\n",
    "import os, shutil, time, csv,math\n",
    "from os import walk\n",
    "from PIL import Image,ImageOps\n",
    "import cv2\n",
    "import matplotlib.pyplot as plt\n",
    "from matplotlib.pyplot import imshow\n",
    "plt.rcParams['figure.dpi'] = 150 \n",
    "%matplotlib inline"
   ]
  },
  {
   "cell_type": "markdown",
   "id": "ff11e057",
   "metadata": {},
   "source": [
    "## Variables"
   ]
  },
  {
   "cell_type": "code",
   "execution_count": 2,
   "id": "7bf0e030",
   "metadata": {
    "scrolled": true
   },
   "outputs": [],
   "source": [
    "#Full Image Folder Path\n",
    "Top_dir = r'D:\\Training_Data_Creation'\n",
    "foldtypes=['Train','Test','Val']\n",
    "#imgtypes=['123','456','789','m','class_m','binary_m'] #If using classified masks which we are not\n",
    "imgtypes=['123','456','789','m']\n",
    "megatile_size=[40,40]\n",
    "#A list of all the Tilesizes which will be tested\n",
    "Tilesize_list=[3,5,7]\n",
    "#nodata value\n",
    "NDV = [255, 255, 255] #no data value vound in mask images."
   ]
  },
  {
   "cell_type": "markdown",
   "id": "55fd0755",
   "metadata": {},
   "source": [
    "## Defining Initial Functions"
   ]
  },
  {
   "cell_type": "code",
   "execution_count": 17,
   "id": "be8203c5",
   "metadata": {
    "scrolled": true
   },
   "outputs": [],
   "source": [
    "def walk_and_create_MW_tiles(foldtype,Tilesize):\n",
    "    for imgtype in imgtypes:\n",
    "        imnum=0\n",
    "        mega_dir='{}\\\\{}_Mega_{}\\\\Megatiles_{}\\\\'.format(Top_dir,foldtype,megatile_size[0],imgtype)\n",
    "        tile_dir='{}\\\\{}_Tiles_ts{}-mega{}\\\\Tiles_{}\\\\'.format(Top_dir,foldtype,Tilesize,megatile_size[0],imgtype)\n",
    "        if Path(tile_dir).exists()==False:\n",
    "            os.makedirs(tile_dir)\n",
    "        shutil.rmtree(tile_dir)\n",
    "        os.makedirs(tile_dir)\n",
    "        for (dirpath, dirnames, filenames) in walk(mega_dir):\n",
    "            for subfile in filenames:\n",
    "                img= cv2.imread(mega_dir+subfile,3)\n",
    "                #want max range == megatilesize-tilesize+1 (lookup how range function works)\n",
    "                for i in range((megatile_size[0]-Tilesize+1)):\n",
    "                    for j in range((megatile_size[0]-Tilesize+1)):\n",
    "                        #creating all the training images (15)\n",
    "                        tile_img=img[i:i+Tilesize,j:j+Tilesize]\n",
    "                        if imgtype[-1:]!='m':\n",
    "                            sought = [0,0,0]\n",
    "                        else:\n",
    "                            sought = NDV\n",
    "                        nd_pix = np.count_nonzero(tile_img==sought) #count all the nodata pixels\n",
    "                        if nd_pix == 0: #we dont want any for this analysis\n",
    "                            tile_name=\"{}_size{},{}\".format(foldtype,Tilesize,str(imnum))\n",
    "                            #determining image path for saving\n",
    "                            #img_path=tile_dir +subfile[:-4]+ '{}.png'.format(tile_name) For adding megatile name to file path\n",
    "                            img_path=tile_dir + '{}.png'.format(tile_name)\n",
    "                            cv2.imwrite(img_path, tile_img)\n",
    "                            imnum+=1\n",
    "                        else:\n",
    "                            continue\n",
    "    print(\"{} Moving window tiles for {}, Tilesize: {}\".format(imnum,foldtype,Tilesize))\n"
   ]
  },
  {
   "cell_type": "code",
   "execution_count": 18,
   "id": "4911889f",
   "metadata": {},
   "outputs": [],
   "source": [
    "def make_test_dsets_consistent(maxtilesize, currenttilesize):   \n",
    "    for imgtype in imgtypes:\n",
    "        imnumthree,imnumfive=0,0 #numbers for file saving\n",
    "        maxtile_dir='{}\\\\Test_Tiles_ts{}-mega{}\\\\Tiles_{}\\\\'.format(Top_dir,maxtilesize,megatile_size[0],imgtype)\n",
    "        currenttile_dir='{}\\\\Test_Tiles_ts{}-mega{}\\\\Tiles_{}\\\\'.format(Top_dir,currenttilesize,megatile_size[0],imgtype)\n",
    "        if currenttilesize != maxtilesize: #clear exisitng test dataset of images to fill with new ones\n",
    "            shutil.rmtree(currenttile_dir)\n",
    "            os.makedirs(currenttile_dir)\n",
    "        for (dirpath, dirnames, filenames) in walk(maxtile_dir):\n",
    "            for subfile in filenames:\n",
    "                img= cv2.imread(maxtile_dir+subfile,3)\n",
    "                if currenttilesize == 3:\n",
    "                    tile_img=img[2:5,2:5] #subset around middle pixel\n",
    "                    tile_name=\"Test_size3,{}\".format(str(imnumthree))\n",
    "                    img_path=currenttile_dir + '{}.png'.format(tile_name)\n",
    "                    cv2.imwrite(img_path, tile_img) #save new tile to currenttilesize dir\n",
    "                    imnumthree+=1\n",
    "                if currenttilesize == 5:\n",
    "                    tile_img=img[1:6,1:6]#subset around middle pixel\n",
    "                    tile_name=\"Test_size5,{}\".format(str(imnumfive))\n",
    "                    img_path=currenttile_dir + '{}.png'.format(tile_name)\n",
    "                    cv2.imwrite(img_path, tile_img)\n",
    "                    imnumfive+=1\n",
    "    print('{} Tilesize Test dataset processed'.format(currenttilesize))\n",
    "                    "
   ]
  },
  {
   "cell_type": "markdown",
   "id": "78705871",
   "metadata": {},
   "source": [
    "## Process Data"
   ]
  },
  {
   "cell_type": "code",
   "execution_count": 19,
   "id": "61e62b59",
   "metadata": {
    "scrolled": true
   },
   "outputs": [
    {
     "name": "stdout",
     "output_type": "stream",
     "text": [
      "19594 Moving window tiles for Train, Tilesize: 3\n",
      "15360 Moving window tiles for Train, Tilesize: 5\n",
      "11621 Moving window tiles for Train, Tilesize: 7\n",
      "6844 Moving window tiles for Test, Tilesize: 3\n",
      "5310 Moving window tiles for Test, Tilesize: 5\n",
      "3963 Moving window tiles for Test, Tilesize: 7\n",
      "6276 Moving window tiles for Val, Tilesize: 3\n",
      "4916 Moving window tiles for Val, Tilesize: 5\n",
      "3718 Moving window tiles for Val, Tilesize: 7\n"
     ]
    }
   ],
   "source": [
    "for data_type in foldtypes:\n",
    "    for size in Tilesize_list:\n",
    "        walk_and_create_MW_tiles(data_type,size)\n"
   ]
  },
  {
   "cell_type": "code",
   "execution_count": 20,
   "id": "51dbbaa4",
   "metadata": {},
   "outputs": [
    {
     "name": "stdout",
     "output_type": "stream",
     "text": [
      "3 Tilesize Test dataset processed\n",
      "5 Tilesize Test dataset processed\n",
      "7 Tilesize Test dataset processed\n"
     ]
    }
   ],
   "source": [
    "'''Make test datasets consistent across tiles'''\n",
    "for ts in Tilesize_list:\n",
    "    make_test_dsets_consistent(7, ts)"
   ]
  },
  {
   "cell_type": "markdown",
   "id": "60266844",
   "metadata": {},
   "source": [
    "## Creating TF txt files"
   ]
  },
  {
   "cell_type": "markdown",
   "id": "74941e3e",
   "metadata": {},
   "source": [
    "#### Centre pixel regression tile TXT files"
   ]
  },
  {
   "cell_type": "code",
   "execution_count": 22,
   "id": "09315066",
   "metadata": {
    "scrolled": true
   },
   "outputs": [],
   "source": [
    "#creating TXT files for training, testing, validation Middle pixel value\n",
    "def create_midreg_tiles(i,Tilesize):\n",
    "    l1,l2,l3,lm=[],[],[],[]\n",
    "    for itype in imgtypes:\n",
    "        subdir=Top_dir+'\\\\{}_Tiles_ts{}-mega{}\\\\Tiles_{}'.format(i,Tilesize,megatile_size[0],itype)\n",
    "        for (dirpath, dirnames, filenames) in walk(subdir):\n",
    "            for subfile in filenames:\n",
    "                if itype == '123': #creating lists of where to get the images \n",
    "                    l1.append(subdir+'\\\\'+subfile)\n",
    "                if itype == '456':\n",
    "                    l2.append(subdir+'\\\\'+subfile)\n",
    "                if itype == '789':\n",
    "                    l3.append(subdir+'\\\\'+subfile)\n",
    "                if itype == 'm':\n",
    "                    img= cv2.imread(subdir+'\\\\'+subfile,3)\n",
    "                    mid_pix=img[int(Tilesize/2-.5),int(Tilesize/2-.5)] #locating the midpixel value\n",
    "                    value=mid_pix[0]\n",
    "                    lm.append(value)\n",
    "    total_list=[]\n",
    "    print('txt file created on {} {} dataset with {} imgs and {} masks'.format(i,Tilesize,len(l1), len(lm)))\n",
    "    for j in range (len(lm)):\n",
    "        #create one list of lists which has all the paths\n",
    "        entry='{} {} {} {}'.format(lm[j],l1[j],l2[j],l3[j])\n",
    "        total_list.append(entry)\n",
    "    label= Top_dir+'\\\\Pointer_files\\\\Midpix{}_ts{}-mega{}.txt'.format(i,Tilesize,megatile_size[0])\n",
    "    with open(label, 'w') as f:\n",
    "        #write each list as a word with a space in a txt\n",
    "        for line in list(total_list):\n",
    "            f.write(str(line))\n",
    "            f.write('\\n')"
   ]
  },
  {
   "cell_type": "code",
   "execution_count": null,
   "id": "ea786e67",
   "metadata": {},
   "outputs": [
    {
     "name": "stdout",
     "output_type": "stream",
     "text": [
      "txt file created on Train 3 dataset with 19594 imgs and 19594 masks\n",
      "txt file created on Train 5 dataset with 15360 imgs and 15360 masks\n"
     ]
    }
   ],
   "source": [
    "for data_type in foldtypes:\n",
    "    for size in Tilesize_list: \n",
    "        create_midreg_tiles(data_type,size)"
   ]
  },
  {
   "cell_type": "code",
   "execution_count": 23,
   "id": "45bd44c8",
   "metadata": {},
   "outputs": [
    {
     "name": "stdout",
     "output_type": "stream",
     "text": [
      "txt file created on TestEVAL 3 dataset with 6844 imgs and 6844 masks\n"
     ]
    }
   ],
   "source": [
    "create_midreg_tiles('TestEVAL',3)"
   ]
  },
  {
   "cell_type": "code",
   "execution_count": null,
   "id": "f58bb4d4",
   "metadata": {},
   "outputs": [],
   "source": []
  },
  {
   "cell_type": "code",
   "execution_count": 7,
   "id": "dc4f290c",
   "metadata": {},
   "outputs": [
    {
     "data": {
      "image/png": "[encoded data removed]",
      "text/plain": [
       "<Figure size 432x288 with 1 Axes>"
      ]
     },
     "metadata": {
      "needs_background": "light"
     },
     "output_type": "display_data"
    }
   ],
   "source": [
    "'''To show zooming in'''\n",
    "img= cv2.imread(r'D:\\Training_Data_Creation\\Test_Tiles_ts7-mega40\\Tiles_789\\Test_size7,3.png',3)\n",
    "plt.imshow(img/65535)\n",
    "tile_img=img[1:6,1:6]\n",
    "#plt.imshow(tile_img/65535)"
   ]
  },
  {
   "cell_type": "code",
   "execution_count": 20,
   "id": "fb7ec7cd",
   "metadata": {
    "scrolled": true
   },
   "outputs": [],
   "source": [
    "def reformat_class_masks(foldtype,tiletype_list,masktype):\n",
    "    '''Function which reformats the classified and binary masks into TF readable images.\n",
    "    this script sets all NDV == 0 lichen, which shouldnt be common if you set the NDV threshold'''\n",
    "    for tiletype in tiletype_list:\n",
    "        tile_dir='{}\\\\{}_Tiles_ts{}-mega{}\\\\{}{}\\\\'.format(Top_dir,foldtype,Tilesize[0],megatile_size[0],tiletype,masktype)\n",
    "        for (dirpath, dirnames, filenames) in walk(tile_dir):\n",
    "            for subfile in filenames:\n",
    "                img= cv2.imread(tile_dir+subfile,3)\n",
    "                img_shape= img.shape\n",
    "                Y,X = img_shape[0],img_shape[1]\n",
    "                for i in range(Y):\n",
    "                    for j in range (X):\n",
    "                        if (img[i,j][0]==255): #if they are greater than threshold, set to 100,100,100\n",
    "                            img[i,j]=[0,0,0]\n",
    "                cv2.imwrite(tile_dir+subfile, img)\n",
    "    print(\"{} masks reformatted for TF for {}\".format(masktype,foldtype))"
   ]
  },
  {
   "cell_type": "code",
   "execution_count": null,
   "id": "815ddcaf",
   "metadata": {},
   "outputs": [],
   "source": [
    "Threshold_ND =0\n",
    "#if set to 0 means that only complete images will be accepted.\n",
    "#if set to 5 means that each tile can have upto 5 NDV pixels.\n",
    "#if set to 25 (for 5x5 tiles), then tiles consising of all NDV will be accepted.\n",
    "\n",
    "def walk_and_create_nonMW_tiles(foldtype):\n",
    "    for imgtype in imgtypes:\n",
    "        imnum=0\n",
    "        mega_dir='{}\\\\{}_Mega_{}\\\\Megatiles_{}\\\\'.format(Top_dir,foldtype,megatile_size[0],imgtype)\n",
    "        tile_dir='{}\\\\{}_Tiles_ts{}-mega{}\\\\Tiles_nonMW_{}\\\\'.format(Top_dir,foldtype,Tilesize[0],megatile_size[0],imgtype)\n",
    "        if Path(tile_dir).exists()==False:\n",
    "            os.makedirs(tile_dir)\n",
    "        shutil.rmtree(tile_dir)\n",
    "        os.makedirs(tile_dir)\n",
    "        for (dirpath, dirnames, filenames) in walk(mega_dir):\n",
    "            for subfile in filenames:\n",
    "                img= cv2.imread(mega_dir+subfile,3)\n",
    "                #dividing to get how many complete tiles fit into a megatile\n",
    "                for i in range(int(megatile_size[0]/Tilesize[0])):\n",
    "                    for j in range(int(megatile_size[0]/Tilesize[0])):\n",
    "                        #creating all the training images (15)\n",
    "                        it,jt=i*Tilesize[0],j*Tilesize[0] #it,jt stand for tile versions of the i,j variables. used to iterate.\n",
    "                        tile_img=img[it:it+Tilesize[0],jt:jt+Tilesize[0]]\n",
    "                        tile_name=\"{}_size{},{}\".format(foldtype,Tilesize[0],str(imnum))\n",
    "                        #determining image path for saving\n",
    "                        if imgtype[-1:]!='m':\n",
    "                            sought = [0,0,0]\n",
    "                        else:\n",
    "                            sought = NDV\n",
    "                        nd_pix = np.count_nonzero(tile_img==sought)/3\n",
    "                        #counts all instances of NDV in NParray, where pixels are [NDV,NDV,NDV]. That is why divide by 3.\n",
    "                        if nd_pix <(Threshold_ND+1):#if there are less NDV pixels in the tile than threshold\n",
    "                            tile_name=\"{}_size{},{}\".format(foldtype,Tilesize[0],str(imnum))\n",
    "                            #determining image path for saving\n",
    "                            img_path=tile_dir + '{}.png'.format(tile_name)\n",
    "                            cv2.imwrite(img_path, tile_img)\n",
    "                            imnum+=1\n",
    "    print(\"{} Non Moving Window tiles for {}\".format(imnum,foldtype))"
   ]
  },
  {
   "cell_type": "code",
   "execution_count": 2,
   "id": "1e9b2753",
   "metadata": {
    "scrolled": true
   },
   "outputs": [
    {
     "data": {
      "image/png": "[encoded data removed]",
      "text/plain": [
       "<Figure size 432x288 with 1 Axes>"
      ]
     },
     "metadata": {
      "needs_background": "light"
     },
     "output_type": "display_data"
    },
    {
     "data": {
      "image/png": "[encoded data removed]",
      "text/plain": [
       "<Figure size 432x288 with 1 Axes>"
      ]
     },
     "metadata": {
      "needs_background": "light"
     },
     "output_type": "display_data"
    },
    {
     "name": "stdout",
     "output_type": "stream",
     "text": [
      "Number of white pix: 8\n"
     ]
    },
    {
     "data": {
      "image/png": "[encoded data removed]",
      "text/plain": [
       "<Figure size 432x288 with 1 Axes>"
      ]
     },
     "metadata": {
      "needs_background": "light"
     },
     "output_type": "display_data"
    },
    {
     "name": "stdout",
     "output_type": "stream",
     "text": [
      "Number of white pix: 7\n",
      "Image saved since below threshold\n"
     ]
    },
    {
     "data": {
      "image/png": "[encoded data removed]",
      "text/plain": [
       "<Figure size 432x288 with 1 Axes>"
      ]
     },
     "metadata": {
      "needs_background": "light"
     },
     "output_type": "display_data"
    },
    {
     "name": "stdout",
     "output_type": "stream",
     "text": [
      "Number of white pix: 6\n",
      "Image saved since below threshold\n"
     ]
    },
    {
     "data": {
      "image/png": "[encoded data removed]",
      "text/plain": [
       "<Figure size 432x288 with 1 Axes>"
      ]
     },
     "metadata": {
      "needs_background": "light"
     },
     "output_type": "display_data"
    },
    {
     "name": "stdout",
     "output_type": "stream",
     "text": [
      "Number of white pix: 7\n",
      "Image saved since below threshold\n"
     ]
    },
    {
     "data": {
      "image/png": "[encoded data removed]",
      "text/plain": [
       "<Figure size 432x288 with 1 Axes>"
      ]
     },
     "metadata": {
      "needs_background": "light"
     },
     "output_type": "display_data"
    },
    {
     "name": "stdout",
     "output_type": "stream",
     "text": [
      "Number of white pix: 8\n"
     ]
    },
    {
     "data": {
      "image/png": "[encoded data removed]",
      "text/plain": [
       "<Figure size 432x288 with 1 Axes>"
      ]
     },
     "metadata": {
      "needs_background": "light"
     },
     "output_type": "display_data"
    },
    {
     "name": "stdout",
     "output_type": "stream",
     "text": [
      "Number of white pix: 7\n",
      "Image saved since below threshold\n"
     ]
    },
    {
     "data": {
      "image/png": "[encoded data removed]",
      "text/plain": [
       "<Figure size 432x288 with 1 Axes>"
      ]
     },
     "metadata": {
      "needs_background": "light"
     },
     "output_type": "display_data"
    },
    {
     "name": "stdout",
     "output_type": "stream",
     "text": [
      "Number of white pix: 5\n",
      "Image saved since below threshold\n"
     ]
    },
    {
     "data": {
      "image/png": "[encoded data removed]",
      "text/plain": [
       "<Figure size 432x288 with 1 Axes>"
      ]
     },
     "metadata": {
      "needs_background": "light"
     },
     "output_type": "display_data"
    },
    {
     "name": "stdout",
     "output_type": "stream",
     "text": [
      "Number of white pix: 2\n",
      "Image saved since below threshold\n"
     ]
    },
    {
     "data": {
      "image/png": "[encoded data removed]",
      "text/plain": [
       "<Figure size 432x288 with 1 Axes>"
      ]
     },
     "metadata": {
      "needs_background": "light"
     },
     "output_type": "display_data"
    },
    {
     "name": "stdout",
     "output_type": "stream",
     "text": [
      "Number of white pix: 5\n",
      "Image saved since below threshold\n"
     ]
    },
    {
     "data": {
      "image/png": "[encoded data removed]",
      "text/plain": [
       "<Figure size 432x288 with 1 Axes>"
      ]
     },
     "metadata": {
      "needs_background": "light"
     },
     "output_type": "display_data"
    },
    {
     "name": "stdout",
     "output_type": "stream",
     "text": [
      "Number of white pix: 7\n",
      "Image saved since below threshold\n"
     ]
    },
    {
     "data": {
      "image/png": "[encoded data removed]",
      "text/plain": [
       "<Figure size 432x288 with 1 Axes>"
      ]
     },
     "metadata": {
      "needs_background": "light"
     },
     "output_type": "display_data"
    },
    {
     "name": "stdout",
     "output_type": "stream",
     "text": [
      "Number of white pix: 8\n"
     ]
    },
    {
     "data": {
      "image/png": "[encoded data removed]",
      "text/plain": [
       "<Figure size 432x288 with 1 Axes>"
      ]
     },
     "metadata": {
      "needs_background": "light"
     },
     "output_type": "display_data"
    },
    {
     "name": "stdout",
     "output_type": "stream",
     "text": [
      "Number of white pix: 7\n",
      "Image saved since below threshold\n"
     ]
    },
    {
     "data": {
      "image/png": "[encoded data removed]",
      "text/plain": [
       "<Figure size 432x288 with 1 Axes>"
      ]
     },
     "metadata": {
      "needs_background": "light"
     },
     "output_type": "display_data"
    },
    {
     "name": "stdout",
     "output_type": "stream",
     "text": [
      "Number of white pix: 6\n",
      "Image saved since below threshold\n"
     ]
    },
    {
     "data": {
      "image/png": "[encoded data removed]",
      "text/plain": [
       "<Figure size 432x288 with 1 Axes>"
      ]
     },
     "metadata": {
      "needs_background": "light"
     },
     "output_type": "display_data"
    },
    {
     "name": "stdout",
     "output_type": "stream",
     "text": [
      "Number of white pix: 7\n",
      "Image saved since below threshold\n"
     ]
    },
    {
     "data": {
      "image/png": "[encoded data removed]",
      "text/plain": [
       "<Figure size 432x288 with 1 Axes>"
      ]
     },
     "metadata": {
      "needs_background": "light"
     },
     "output_type": "display_data"
    },
    {
     "name": "stdout",
     "output_type": "stream",
     "text": [
      "Number of white pix: 8\n"
     ]
    },
    {
     "data": {
      "image/png": "[encoded data removed]",
      "text/plain": [
       "<Figure size 432x288 with 1 Axes>"
      ]
     },
     "metadata": {
      "needs_background": "light"
     },
     "output_type": "display_data"
    },
    {
     "name": "stdout",
     "output_type": "stream",
     "text": [
      "Number of white pix: 0\n",
      "Image saved since below threshold\n"
     ]
    },
    {
     "data": {
      "image/png": "[encoded data removed]",
      "text/plain": [
       "<Figure size 432x288 with 1 Axes>"
      ]
     },
     "metadata": {
      "needs_background": "light"
     },
     "output_type": "display_data"
    },
    {
     "name": "stdout",
     "output_type": "stream",
     "text": [
      "Number of white pix: 0\n",
      "Image saved since below threshold\n"
     ]
    }
   ],
   "source": [
    "\n",
    "img= cv2.imread(bop)\n",
    "img_shape= img.shape\n",
    "global X,Y\n",
    "#X,Y are the image dimensions\n",
    "Y,X = img_shape[0],img_shape[1]\n",
    "#x,y are the additions to make it divisible by the tile\n",
    "y=math.ceil(Y/Tilesize[0])*Tilesize[0]-Y\n",
    "x=math.ceil(X/Tilesize[1])*Tilesize[1]-X\n",
    "\n",
    "plt.imshow(img)\n",
    "plt.show()\n",
    "\n",
    "for i in range(3):\n",
    "    for j in range(5):\n",
    "        trainimg=img[i:i+4,j:j+4]\n",
    "        result = np.count_nonzero(np.all(trainimg==NDV,axis=2))\n",
    "        plt.imshow(trainimg)\n",
    "        plt.show()\n",
    "        print('Number of white pix: '+str(result))\n",
    "        if result <Threshold_white:\n",
    "            tile_name=\"train{},{}_{}\".format(str(i),str(j),'bop')\n",
    "            img_path=Top_dir + '\\\\Training_bop\\\\' +tile_name+ \".png\"\n",
    "            cv2.imwrite(img_path, trainimg)\n",
    "            print('Image saved since below threshold')\n",
    "\n",
    "val_img = img[6:10,0:4]\n",
    "result = np.count_nonzero(np.all(val_img==NDV,axis=2))\n",
    "plt.imshow(val_img)\n",
    "plt.show()\n",
    "print('Number of white pix: '+str(result))\n",
    "if result <Threshold_white:\n",
    "    tile_name=\"val{},{}_{}\".format(str(i),str(j),'bop')\n",
    "    img_path=Top_dir + '\\\\Validation_bop\\\\' +tile_name+ \".png\"\n",
    "    cv2.imwrite(img_path, val_img)\n",
    "    print('Image saved since below threshold')\n",
    "\n",
    "test_img = img[6:10,4:8]\n",
    "result = np.count_nonzero(np.all(test_img==NDV,axis=2))\n",
    "plt.imshow(test_img)\n",
    "plt.show()\n",
    "print('Number of white pix: '+str(result))\n",
    "if result <Threshold_white:\n",
    "    tile_name=\"test{},{}_{}\".format(str(i),str(j),'bop')\n",
    "    img_path=Top_dir + '\\\\Test_bop\\\\' +tile_name+ \".png\"\n",
    "    cv2.imwrite(img_path, test_img)\n",
    "    print('Image saved since below threshold')"
   ]
  },
  {
   "cell_type": "code",
   "execution_count": null,
   "id": "821cb8ac",
   "metadata": {
    "scrolled": true
   },
   "outputs": [],
   "source": []
  }
 ],
 "metadata": {
  "kernelspec": {
   "display_name": "Python 3 (ipykernel)",
   "language": "python",
   "name": "python3"
  },
  "language_info": {
   "codemirror_mode": {
    "name": "ipython",
    "version": 3
   },
   "file_extension": ".py",
   "mimetype": "text/x-python",
   "name": "python",
   "nbconvert_exporter": "python",
   "pygments_lexer": "ipython3",
   "version": "3.8.0"
  }
 },
 "nbformat": 4,
 "nbformat_minor": 5
}
