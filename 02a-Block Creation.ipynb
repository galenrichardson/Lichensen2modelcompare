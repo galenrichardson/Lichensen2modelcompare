{
 "cells": [
  {
   "cell_type": "markdown",
   "id": "91357d6d",
   "metadata": {},
   "source": [
    "Citation: Richardson G, Knudby A, Chen W, Sawada M, Lovitt J, He L, et al. (2023) Dense neural network outperforms other machine learning models for scaling-up lichen cover maps in Eastern Canada. PLoS ONE 18(11): e0292839. https://doi.org/10.1371/journal.pone.0292839"
   ]
  },
  {
   "cell_type": "code",
   "execution_count": 2,
   "id": "d220f3c5",
   "metadata": {},
   "outputs": [],
   "source": [
    "import numpy as np \n",
    "from pathlib import Path\n",
    "import random\n",
    "import os, shutil, time, csv,math\n",
    "from os import walk\n",
    "import cv2\n",
    "import matplotlib.pyplot as plt"
   ]
  },
  {
   "cell_type": "markdown",
   "id": "bc3cb894",
   "metadata": {},
   "source": [
    "## Variables"
   ]
  },
  {
   "cell_type": "code",
   "execution_count": 3,
   "id": "87b972fe",
   "metadata": {},
   "outputs": [],
   "source": [
    "#Full Image Folder Path\n",
    "FILP = r'D:\\Training_Data_Creation\\Full_Images'\n",
    "#Training Creation folders\n",
    "TCF=r'D:\\Training_Data_Creation'\n",
    "Train_Val_folder_name = 'Train_Val_Test_Mega'\n",
    "#list of sisite_list\n",
    "site_list=[]\n",
    "#list of band combs\n",
    "bandcombs=['123','456','789','m']\n",
    "#Megatie height,width -- MUST BE SQUARE\n",
    "Tilesize=[40,40]\n",
    "#nodata value\n",
    "NDV = [255, 255, 255]\n",
    "#Training Test Validation data split values\n",
    "TTVS=[.6,.2,.2]\n"
   ]
  },
  {
   "cell_type": "code",
   "execution_count": 4,
   "id": "6413d52c",
   "metadata": {},
   "outputs": [],
   "source": [
    "#Load 2019 Data\n",
    "site_list.extend(['A6','B7','C1','C6','C7','C8','D2','D3','D9','D15','D16'])\n",
    "#Load 2022 Data\n",
    "site_list.extend(['S1','S4','S6','S7','S9','S13','S18','S19','S20'])"
   ]
  },
  {
   "cell_type": "markdown",
   "id": "361cbd30",
   "metadata": {},
   "source": [
    "## For definied datasets using txt files"
   ]
  },
  {
   "cell_type": "markdown",
   "id": "060d2b11",
   "metadata": {},
   "source": [
    "### Validator to make sure both Sen2 images and masks have same number of NDV pixels. Do before processing."
   ]
  },
  {
   "cell_type": "code",
   "execution_count": 7,
   "id": "1f77d5b5",
   "metadata": {},
   "outputs": [
    {
     "name": "stdout",
     "output_type": "stream",
     "text": [
      "Check complete\n"
     ]
    }
   ],
   "source": [
    "for i in site_list:\n",
    "    img= cv2.imread(r'D:\\Training_Data_Creation\\Full_Images\\{}_789.png'.format(i),3)\n",
    "    maskrgb= cv2.imread(r'D:\\Training_Data_Creation\\Full_Images\\{}_m.png'.format(i),3)\n",
    "    img_result = np.count_nonzero(np.all(img==[0,0,0],axis=2))\n",
    "    mask_result = np.count_nonzero(np.all(maskrgb==NDV,axis=2))\n",
    "    if img_result != mask_result:\n",
    "        print('Error on {}, img{} mask{}'.format(i,img_result,mask_result))\n",
    "print('Check complete')"
   ]
  },
  {
   "cell_type": "code",
   "execution_count": 9,
   "id": "1980e9e7",
   "metadata": {},
   "outputs": [],
   "source": [
    "def make_megatile(bandcomb,parent_dir):\n",
    "    Target_full_img = FILP+ \"\\\\{}_{}.png\".format(IFP,bandcomb)\n",
    "    output_folder=TCF+\"\\\\{}\\\\Megatiles_{}\\\\\".format(parent_dir,bandcomb)\n",
    "    if Path(output_folder).exists()==False:\n",
    "        os.makedirs(output_folder)    #creates a folder if it doesnt exist\n",
    "    TL=[]\n",
    "    img= cv2.imread(Target_full_img,3) #read image 3 menas read the image in full even if it is 16bit\n",
    "    Y,X,b= img.shape\n",
    "    if Y<=30 or X<=30: #for smaller surveys which shouldnt be split due to autocorrleation \n",
    "        y=math.ceil(Y/Tilesize[0])*Tilesize[0]-Y #finding what is missing in order to make it 30x30\n",
    "        x=math.ceil(X/Tilesize[1])*Tilesize[1]-X\n",
    "        if x>0 or y>0:\n",
    "            if bandcomb=='m':\n",
    "                img = cv2.copyMakeBorder(img, 0, y, 0, x, cv2.BORDER_CONSTANT, value=NDV) \n",
    "            else:\n",
    "                img = cv2.copyMakeBorder(img, 0, y, 0, x, cv2.BORDER_CONSTANT, value=[0,0,0])#create no data borders around sen2 imagery\n",
    "        tile_name=\"mega_{}_{}\".format(IFP,'full')\n",
    "        img_path=output_folder + tile_name + \".png\"\n",
    "        TL.append(tile_name)\n",
    "        cv2.imwrite(img_path, img)\n",
    "    else:    #for larger images\n",
    "        midx,midy=int(X/2),int(Y/2) #finding the middle and splitting the image in to quarters\n",
    "        im1=img[0:midy,0:midx]\n",
    "        im2=img[midy:Y,0:midx]\n",
    "        im3=img[0:midy,midx:X]\n",
    "        im4=img[midy:Y,midx:X]\n",
    "        imlist=[im1,im2,im3,im4]\n",
    "        for i in range(len(imlist)):\n",
    "            Y,X,b= imlist[i].shape\n",
    "            y=math.ceil(Y/Tilesize[0])*Tilesize[0]-Y\n",
    "            x=math.ceil(X/Tilesize[1])*Tilesize[1]-X\n",
    "            if x>0 or y>0:\n",
    "                if bandcomb=='m':\n",
    "                    img = cv2.copyMakeBorder(imlist[i], 0, y, 0, x, cv2.BORDER_CONSTANT, value=NDV)\n",
    "                else:\n",
    "                    img = cv2.copyMakeBorder(imlist[i], 0, y, 0, x, cv2.BORDER_CONSTANT, value=[0,0,0]) #create no data borders around the quarter images\n",
    "            tile_name=\"mega_{}_{}\".format(IFP,str(i))\n",
    "            img_path=output_folder + tile_name + \".png\"\n",
    "            TL.append(tile_name)\n",
    "            cv2.imwrite(img_path, img)"
   ]
  },
  {
   "cell_type": "markdown",
   "id": "69405e48",
   "metadata": {},
   "source": [
    "## Defining Functions"
   ]
  },
  {
   "cell_type": "code",
   "execution_count": 10,
   "id": "c3d1c1f0",
   "metadata": {},
   "outputs": [],
   "source": [
    "def TTV_data_split_make_new_dir(folder,bandcomb):\n",
    "    tile_list=os.listdir(folder)\n",
    "    list_len=len(os.listdir(folder))\n",
    "    List_split_value_train=int(list_len*TTVS[0])\n",
    "    List_split_value_val=int(list_len*TTVS[0])+int(list_len*TTVS[1])\n",
    "    random.seed(4)\n",
    "    all_list=random.sample(tile_list,list_len)#list of all imgs randomly ordered\n",
    "    Train_list=all_list[:List_split_value_train]#subsetting large list for just training imgs\n",
    "    Val_list=all_list[List_split_value_train:List_split_value_val]\n",
    "    Test_list=all_list[List_split_value_val:]\n",
    "    train_dest=TCF+\"\\\\Train_Mega_{}\\\\Megatiles_{}\\\\\".format(Tilesize[0],bandcomb) #list of destination dirs\n",
    "    val_dest=TCF+\"\\\\Val_Mega_{}\\\\Megatiles_{}\\\\\".format(Tilesize[0],bandcomb)\n",
    "    test_dest=TCF+\"\\\\Test_Mega_{}\\\\Megatiles_{}\\\\\".format(Tilesize[0],bandcomb)\n",
    "    for i in [train_dest,val_dest,test_dest]:\n",
    "        if Path(i).exists()==False:\n",
    "            os.makedirs(i)\n",
    "    for f in Train_list:#moving the tiles into the proper dirs\n",
    "        shutil.copy(folder+'//'+f, train_dest)\n",
    "    for g in Val_list:\n",
    "        shutil.copy(folder+'//'+g, val_dest)\n",
    "    for h in Test_list:\n",
    "        shutil.copy(folder+'//'+h, test_dest)"
   ]
  },
  {
   "cell_type": "markdown",
   "id": "1dd599aa",
   "metadata": {},
   "source": [
    "## Process Data"
   ]
  },
  {
   "cell_type": "markdown",
   "id": "abc8729e",
   "metadata": {},
   "source": [
    "##### Method for Test data amoung rest of data random"
   ]
  },
  {
   "cell_type": "code",
   "execution_count": 11,
   "id": "0f52c71a",
   "metadata": {},
   "outputs": [],
   "source": [
    "for i in ['Train','Val','Test']:\n",
    "    dataset_path=TCF+'\\\\{}_Mega_{}\\\\'.format(i,Tilesize[0])\n",
    "    #remake folder if it exists or just make the folder\n",
    "    if Path(dataset_path).exists()==False:\n",
    "            os.makedirs(dataset_path)\n",
    "    shutil.rmtree(dataset_path)\n",
    "    os.makedirs(dataset_path)\n",
    "for site in site_list:\n",
    "    IFP=site\n",
    "    #make megatiles from the sites\n",
    "    for bandcomb in bandcombs:\n",
    "        make_megatile(bandcomb,Train_Val_folder_name)\n",
    "for bandcomb in bandcombs:\n",
    "    folder_path= TCF+'\\\\'+Train_Val_folder_name+'\\\\'+'Megatiles_{}\\\\'.format(bandcomb)\n",
    "    #split the data from the directory of megatiles\n",
    "    TTV_data_split_make_new_dir(folder_path, bandcomb)"
   ]
  },
  {
   "cell_type": "markdown",
   "id": "4c0cee88",
   "metadata": {},
   "source": [
    "#### Validator to make sure both megatiles and masks have same number of NDV pixels. Do before processing."
   ]
  },
  {
   "cell_type": "code",
   "execution_count": 12,
   "id": "66a0fda4",
   "metadata": {},
   "outputs": [
    {
     "name": "stdout",
     "output_type": "stream",
     "text": [
      "Check complete\n"
     ]
    }
   ],
   "source": [
    "tile_list=os.listdir('D:\\Training_Data_Creation\\Train_Val_Test_Mega\\Megatiles_123')\n",
    "for i in tile_list:\n",
    "    img= cv2.imread(r'D:\\Training_Data_Creation\\Train_Val_Test_Mega\\Megatiles_123\\{}'.format(i),3)\n",
    "    maskrgb= cv2.imread(r'D:\\Training_Data_Creation\\Train_Val_Test_Mega\\Megatiles_m\\{}'.format(i),3)\n",
    "    img_result = np.count_nonzero(np.all(img==[0,0,0],axis=2))\n",
    "    mask_result = np.count_nonzero(np.all(maskrgb==NDV,axis=2))\n",
    "    if img_result != mask_result:\n",
    "        print('Error on {}, img{} mask{}'.format(i,img_result,mask_result))\n",
    "print('Check complete')"
   ]
  },
  {
   "cell_type": "markdown",
   "id": "0d0ef882",
   "metadata": {},
   "source": [
    "##### Method for creating megatile folders from lists of txt"
   ]
  },
  {
   "cell_type": "code",
   "execution_count": 1,
   "id": "2b021ef1",
   "metadata": {},
   "outputs": [],
   "source": [
    "'''See Example Dset Def if you are interested in this'''\n",
    "train_txt=r'D:\\Training_Data_Creation\\Pointer_files\\Dset_def\\Train.txt'\n",
    "val_txt=r'D:\\Training_Data_Creation\\Pointer_files\\Dset_def\\Val.txt'\n",
    "test_txt=r'D:\\Training_Data_Creation\\Pointer_files\\Dset_def\\Test.txt'"
   ]
  },
  {
   "cell_type": "code",
   "execution_count": 14,
   "id": "95b92c11",
   "metadata": {},
   "outputs": [],
   "source": [
    "'''These txt lists should be made in advanced and found in D:\\Training_Data_Creation\\Dataset_txt_files '''\n",
    "def txt_to_list(filename):\n",
    "    '''HAVE AN EMPTY LINE AFTER LAST LINE IN TXT FILE IN ORDER TO WORK'''\n",
    "    img_list = []\n",
    "    with open(filename, 'r') as File:\n",
    "        infoFile = File.readlines() #Reading all the lines from File\n",
    "        for line in infoFile: #Reading line-by-line\n",
    "            img_list.append(line[:-1])\n",
    "    return img_list\n",
    "def TTV_data_split_from_txt(folder,bandcomb):\n",
    "    #creating the image lists from txt files\n",
    "    Train_list,Val_list,Test_list=txt_to_list(train_txt),txt_to_list(val_txt),txt_to_list(test_txt)\n",
    "    #announcing the destination paths\n",
    "    train_dest=TCF+\"\\\\Train_Mega_{}\\\\Megatiles_{}\\\\\".format(Tilesize[0],bandcomb)\n",
    "    val_dest=TCF+\"\\\\Val_Mega_{}\\\\Megatiles_{}\\\\\".format(Tilesize[0],bandcomb)\n",
    "    test_dest=TCF+\"\\\\Test_Mega_{}\\\\Megatiles_{}\\\\\".format(Tilesize[0],bandcomb)\n",
    "    #remaking the folders if they exist, or creating them\n",
    "    for j in [train_dest,val_dest,test_dest]:\n",
    "        if Path(j).exists()==False:\n",
    "                os.makedirs(j)\n",
    "        shutil.rmtree(j)\n",
    "        os.makedirs(j)\n",
    "    #moving the tiles into the proper dirs\n",
    "    for f in Train_list:\n",
    "        shutil.copy(folder+'\\\\'+f, train_dest)\n",
    "    for g in Val_list:\n",
    "        shutil.copy(folder+'\\\\'+g, val_dest)\n",
    "    for h in Test_list:\n",
    "        shutil.copy(folder+'\\\\'+h, test_dest)"
   ]
  },
  {
   "cell_type": "code",
   "execution_count": 15,
   "id": "1ffc8a37",
   "metadata": {},
   "outputs": [
    {
     "name": "stdout",
     "output_type": "stream",
     "text": [
      "done\n"
     ]
    }
   ],
   "source": [
    "for bandcomb in bandcombs:\n",
    "    folder_path= TCF+'\\\\'+Train_Val_folder_name+'\\\\'+'Megatiles_{}'.format(bandcomb)\n",
    "    TTV_data_split_from_txt(folder_path, bandcomb)\n",
    "print('done')"
   ]
  },
  {
   "cell_type": "markdown",
   "id": "6dc8dea3",
   "metadata": {},
   "source": [
    "## Method for seperated test sites"
   ]
  },
  {
   "cell_type": "code",
   "execution_count": null,
   "id": "0f74f68d",
   "metadata": {},
   "outputs": [],
   "source": [
    "#where do you want the lichen class to be defined as\n",
    "TVS=.7"
   ]
  },
  {
   "cell_type": "code",
   "execution_count": null,
   "id": "a4ab6a94",
   "metadata": {},
   "outputs": [],
   "source": [
    "def TV_data_split_make_new_dir(folder,bandcomb):\n",
    "    '''This function splits the data according to a spit value (TVS) and assigns megatiles to the respective folders'''\n",
    "    #create list of files, also len of list, and determining where the cutoff is\n",
    "    tile_list=os.listdir(folder)\n",
    "    list_len=len(os.listdir(folder))\n",
    "    List_split_value=int(list_len*TVS)\n",
    "    # Using a random seed, creating a randomized list of all tile names\n",
    "    random.seed(1)\n",
    "    all_list=random.sample(tile_list,list_len)\n",
    "    #splitting the tiles according to the randomized list\n",
    "    Train_list=all_list[:List_split_value]\n",
    "    Val_list=all_list[List_split_value:]\n",
    "    #defining the destination folders for where to define training and val mega tiles\n",
    "    train_dest=TCF+\"\\\\Train_Mega_{}\\\\Megatiles_{}\\\\\".format(Tilesize[0],bandcomb)\n",
    "    val_dest=TCF+\"\\\\Val_Mega_{}\\\\Megatiles_{}\\\\\".format(Tilesize[0],bandcomb)\n",
    "    #making those Dirs if they do not exist\n",
    "    if Path(train_dest).exists()==False:\n",
    "        os.makedirs(train_dest)\n",
    "    if Path(val_dest).exists()==False:\n",
    "        os.makedirs(val_dest)\n",
    "    #moving the tiles into the proper dirs\n",
    "    for f in Train_list:\n",
    "        shutil.move(folder+'//'+f, train_dest)\n",
    "    for g in Val_list:\n",
    "        shutil.move(folder+'//'+g, val_dest)"
   ]
  },
  {
   "cell_type": "code",
   "execution_count": 13,
   "id": "328efa9c",
   "metadata": {},
   "outputs": [
    {
     "name": "stdout",
     "output_type": "stream",
     "text": [
      "['B7', 'C1', 'C6', 'C7', 'D2', 'D3', 'D9', 'D15'] are for training and validation\n"
     ]
    }
   ],
   "source": [
    "#creates megatile folders or deletes existing megatile folders\n",
    "for i in ['Train','Val','Test']:\n",
    "    dataset_path=TCF+'\\\\{}_Mega_{}\\\\'.format(i,Tilesize[0])\n",
    "    if Path(dataset_path).exists()==False:\n",
    "            os.makedirs(dataset_path)\n",
    "    shutil.rmtree(dataset_path)\n",
    "    os.makedirs(dataset_path)\n",
    "train_val_sites=site_list.copy()\n",
    "for site in Test_site_list:\n",
    "    #seperating sites defined as test sites from the rest\n",
    "    train_val_sites.remove(str(site))\n",
    "    IFP=site\n",
    "    #processing the test megatiles and putting them all in a folder\n",
    "    for bandcomb in bandcombs:\n",
    "        #creates megatile folders for both test sets together, and also for individual test sites\n",
    "        make_megatile(bandcomb,'Test_Mega_{}'.format(Tilesize[0]))\n",
    "        make_megatile(bandcomb,'Test-{}_Mega_{}'.format(site,Tilesize[0]))\n",
    "#Processing all training/validation data and putting it in a single folder\n",
    "print('{} are for training and validation'.format(train_val_sites))\n",
    "for site in train_val_sites:\n",
    "    IFP=site\n",
    "    for bandcomb in bandcombs:\n",
    "        make_megatile(bandcomb,Train_Val_folder_name)\n",
    "#splitting the training/validation mega tiles and putting them in their respective folder\n",
    "for bandcomb in bandcombs:\n",
    "    folder_path= TCF+'\\\\'+Train_Val_folder_name+'\\\\'+'Megatiles_{}\\\\'.format(bandcomb)\n",
    "    TV_data_split_make_new_dir(folder_path, bandcomb)\n",
    "#deleting temp folder which was used to hold the train/val megatiles together\n",
    "#shutil.rmtree(TCF+'\\\\'+Train_Val_folder_name)"
   ]
  },
  {
   "cell_type": "code",
   "execution_count": null,
   "id": "e43d23fd",
   "metadata": {},
   "outputs": [],
   "source": []
  },
  {
   "cell_type": "code",
   "execution_count": 15,
   "id": "d700bfff",
   "metadata": {},
   "outputs": [
    {
     "name": "stdout",
     "output_type": "stream",
     "text": [
      "Shape of the image (67, 69, 3)\n",
      "lol this needs resizing\n",
      "34 33\n",
      "Shape of the image (40, 40, 3)\n"
     ]
    },
    {
     "data": {
      "image/png": "[encoded data removed]",
      "text/plain": [
       "<Figure size 432x288 with 1 Axes>"
      ]
     },
     "metadata": {
      "needs_background": "light"
     },
     "output_type": "display_data"
    },
    {
     "name": "stdout",
     "output_type": "stream",
     "text": [
      "lol this needs resizing\n",
      "34 33\n",
      "Shape of the image (40, 40, 3)\n"
     ]
    },
    {
     "data": {
      "image/png": "[encoded data removed]",
      "text/plain": [
       "<Figure size 432x288 with 1 Axes>"
      ]
     },
     "metadata": {
      "needs_background": "light"
     },
     "output_type": "display_data"
    },
    {
     "name": "stdout",
     "output_type": "stream",
     "text": [
      "lol this needs resizing\n",
      "34 33\n",
      "Shape of the image (40, 40, 3)\n"
     ]
    },
    {
     "data": {
      "image/png": "[encoded data removed]",
      "text/plain": [
       "<Figure size 432x288 with 1 Axes>"
      ]
     },
     "metadata": {
      "needs_background": "light"
     },
     "output_type": "display_data"
    },
    {
     "name": "stdout",
     "output_type": "stream",
     "text": [
      "lol this needs resizing\n",
      "34 33\n",
      "Shape of the image (40, 40, 3)\n"
     ]
    },
    {
     "data": {
      "image/png": "[encoded data removed]",
      "text/plain": [
       "<Figure size 432x288 with 1 Axes>"
      ]
     },
     "metadata": {
      "needs_background": "light"
     },
     "output_type": "display_data"
    }
   ],
   "source": [
    "Tilesize=[40,40]\n",
    "img= cv2.imread(r'D:\\Training_Data_Creation\\Full_Images\\C6_m.png',3)\n",
    "img_shape=img.shape\n",
    "Y,X,b= img.shape\n",
    "print(\"Shape of the image\", img_shape)\n",
    "midx,midy=int(img_shape[1]/2),int(img_shape[0]/2)\n",
    "imlist=[im1,im2,im3,im4]\n",
    "im1=img[0:midy,0:midx]\n",
    "im2=img[midy:Y,0:midx]\n",
    "im3=img[0:midy,midx:X]\n",
    "im4=img[midy:Y,midx:X]\n",
    "for i in imlist:\n",
    "    Y,X,b= i.shape\n",
    "    y=math.ceil(Y/Tilesize[0])*Tilesize[0]-Y\n",
    "    x=math.ceil(X/Tilesize[1])*Tilesize[1]-X\n",
    "    if x>0 or y>0:\n",
    "        #print('lol this needs resizing')\n",
    "        #make white border if it is a mask, 0,0,0 border if it isnt\n",
    "        if bandcomb=='m':\n",
    "            img = cv2.copyMakeBorder(i, 0, y, 0, x, cv2.BORDER_CONSTANT, value=NDV)\n",
    "        else:\n",
    "            img = cv2.copyMakeBorder(i, 0, y, 0, x, cv2.BORDER_CONSTANT, value=[0,0,0,0])\n",
    "    print(midx,midy)\n",
    "    plt.imshow(img)\n",
    "    print(\"Shape of the image\", img.shape)\n",
    "    plt.show()"
   ]
  }
 ],
 "metadata": {
  "kernelspec": {
   "display_name": "Python 3 (ipykernel)",
   "language": "python",
   "name": "python3"
  },
  "language_info": {
   "codemirror_mode": {
    "name": "ipython",
    "version": 3
   },
   "file_extension": ".py",
   "mimetype": "text/x-python",
   "name": "python",
   "nbconvert_exporter": "python",
   "pygments_lexer": "ipython3",
   "version": "3.8.0"
  }
 },
 "nbformat": 4,
 "nbformat_minor": 5
}
