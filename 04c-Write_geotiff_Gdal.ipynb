{
 "cells": [
  {
   "cell_type": "markdown",
   "id": "f41a8afd",
   "metadata": {},
   "source": [
    "citation"
   ]
  },
  {
   "cell_type": "code",
   "execution_count": 1,
   "id": "be6c4758",
   "metadata": {},
   "outputs": [],
   "source": [
    "import rasterio\n",
    "from rasterio.crs import CRS\n",
    "from rasterio.transform import from_origin\n",
    "import os, shutil, time, csv,math\n",
    "driver = \"GTiff\""
   ]
  },
  {
   "cell_type": "code",
   "execution_count": 12,
   "id": "791fb887",
   "metadata": {},
   "outputs": [],
   "source": [
    "path_to_georef_raster=r'E:\\GIS\\Thesis\\Intermediate Data\\Large_Imagery\\S2_Paper_s4_AOI.tif'\n",
    "path_to_raster_with_data=r'E:\\GIS\\Thesis\\Intermediate Data\\Large_Imagery\\s2_s4NN4pred_output.tif'\n",
    "output_raster=r'E:\\GIS\\Thesis\\Intermediate Data\\Large_Imagery\\s2_s4NN4_GEO_pred_output.tif'"
   ]
  },
  {
   "cell_type": "code",
   "execution_count": 13,
   "id": "209b7ca4",
   "metadata": {},
   "outputs": [],
   "source": [
    "#Here you read the raster which has geospatial information\n",
    "raster_with_ref= rasterio.open(path_to_georef_raster)\n",
    "crs = CRS.from_epsg(32619) #defining projection\n",
    "raster_array_ref = raster_with_ref.read() #reading raster with info"
   ]
  },
  {
   "cell_type": "code",
   "execution_count": 14,
   "id": "d8cbb985",
   "metadata": {},
   "outputs": [
    {
     "name": "stdout",
     "output_type": "stream",
     "text": [
      "| 8.00, 0.00, 606170.34|\n",
      "| 0.00,-8.00, 5830437.74|\n",
      "| 0.00, 0.00, 1.00|\n"
     ]
    }
   ],
   "source": [
    "ref_transform=raster_with_ref.transform #getting top left coordinate and cell size\n",
    "print(ref_transform)\n",
    "cell,cord_1,cord2= ref_transform[0],ref_transform[2],ref_transform[5]\n",
    "transform = from_origin(ref_transform[2],ref_transform[5],cell, cell) #set as the transform for the write raster\n",
    "dim=raster_array_ref.shape\n",
    "height,width,count=dim[1],dim[2],dim[0] #getting height and width write raster"
   ]
  },
  {
   "cell_type": "code",
   "execution_count": 15,
   "id": "6a67c136",
   "metadata": {},
   "outputs": [],
   "source": [
    "#Here you read the raster which you want to write\n",
    "raster_file_with_data = rasterio.open(path_to_raster_with_data)\n",
    "raster_array_with_data = raster_file_with_data.read()\n",
    "dtype=raster_array_with_data.dtype #ensuring dtype is the same\n",
    "band_count=1 #set to single band"
   ]
  },
  {
   "cell_type": "code",
   "execution_count": 16,
   "id": "124366ab",
   "metadata": {},
   "outputs": [
    {
     "name": "stdout",
     "output_type": "stream",
     "text": [
      "Done in 0.00\n"
     ]
    }
   ],
   "source": [
    "start=time.time()\n",
    "with rasterio.open(output_raster,\"w\",\n",
    "                  driver=driver,\n",
    "                  height=height,\n",
    "                  width=width,\n",
    "                  count=band_count,\n",
    "                  dtype=dtype,\n",
    "                  crs=crs,\n",
    "                  transform=transform) as dst:\n",
    "    dst.write(raster_array_with_data)\n",
    "end=time.time()\n",
    "runtime=str(\"%.2f\"%(end-start))\n",
    "print('Done in {}'.format(runtime))"
   ]
  },
  {
   "cell_type": "code",
   "execution_count": null,
   "id": "12efed32",
   "metadata": {},
   "outputs": [],
   "source": []
  }
 ],
 "metadata": {
  "kernelspec": {
   "display_name": "Python 3 (ipykernel)",
   "language": "python",
   "name": "python3"
  },
  "language_info": {
   "codemirror_mode": {
    "name": "ipython",
    "version": 3
   },
   "file_extension": ".py",
   "mimetype": "text/x-python",
   "name": "python",
   "nbconvert_exporter": "python",
   "pygments_lexer": "ipython3",
   "version": "3.8.0"
  }
 },
 "nbformat": 4,
 "nbformat_minor": 5
}
