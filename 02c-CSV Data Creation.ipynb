{
 "cells": [
  {
   "cell_type": "markdown",
   "id": "816de5cb",
   "metadata": {},
   "source": [
    "citation"
   ]
  },
  {
   "cell_type": "code",
   "execution_count": 1,
   "id": "83e968a2",
   "metadata": {},
   "outputs": [],
   "source": [
    "import numpy as np \n",
    "import pandas as pd\n",
    "from pathlib import Path\n",
    "import os, shutil, time, csv,math\n",
    "from os import walk\n",
    "import cv2"
   ]
  },
  {
   "cell_type": "markdown",
   "id": "c75f20f5",
   "metadata": {},
   "source": [
    "## Variables"
   ]
  },
  {
   "cell_type": "code",
   "execution_count": 2,
   "id": "c6b713ba",
   "metadata": {},
   "outputs": [],
   "source": [
    "#Directory where all thre training data is stored\n",
    "Top_dir = r'D:\\Training_Data_Creation'\n",
    "#lists of sites and image types\n",
    "megatile_size=[40,40]\n",
    "Tilesizes=[3,5,7]\n",
    "imgtypes=['123','456','789','m']"
   ]
  },
  {
   "cell_type": "markdown",
   "id": "e741af3b",
   "metadata": {},
   "source": [
    "## Defining Initial Functions"
   ]
  },
  {
   "cell_type": "code",
   "execution_count": 3,
   "id": "35c8afa8",
   "metadata": {},
   "outputs": [],
   "source": [
    "def process_tiles_mega(foldtype):\n",
    "    '''This is for datasets which will not be compared and we want all the pixel values in the csv'''\n",
    "    B1,B2,B3,B4,B5,B6,B7,B8,B9,BM=[],[],[],[],[],[],[],[],[],[]\n",
    "    for imgtype in imgtypes: \n",
    "        #defining vars for different sources\n",
    "        read_dir=Top_dir+'\\\\{}_Mega_{}\\\\Megatiles_{}\\\\'.format(foldtype,megatile_size[0],imgtype)\n",
    "        img_size=megatile_size[0]\n",
    "        for (dirpath, dirnames, filenames) in walk(read_dir):\n",
    "            for file in filenames:\n",
    "                if imgtype == '123':\n",
    "                    #read image as 3 for raw 16bit\n",
    "                    img= cv2.imread(read_dir+file,3)\n",
    "                    img = cv2.cvtColor(img, cv2.COLOR_BGR2RGB)\n",
    "                    for i in range(img_size):\n",
    "                        for j in range(img_size):\n",
    "                            B1.append(str(abs(img[i,j][0])))#append the pixels to the respective lists\n",
    "                            B2.append(str(abs(img[i,j][1])))\n",
    "                            B3.append(str(abs(img[i,j][2])))\n",
    "                if imgtype == '456':\n",
    "                    img= cv2.imread(read_dir+file,3)\n",
    "                    img = cv2.cvtColor(img, cv2.COLOR_BGR2RGB)\n",
    "                    for i in range(img_size):\n",
    "                        for j in range(img_size):\n",
    "                            B4.append(str(abs(img[i,j][0])))\n",
    "                            B5.append(str(abs(img[i,j][1])))\n",
    "                            B6.append(str(abs(img[i,j][2])))\n",
    "                if imgtype == '789':\n",
    "                    img= cv2.imread(read_dir+file,3)\n",
    "                    img = cv2.cvtColor(img, cv2.COLOR_BGR2RGB)\n",
    "                    for i in range(img_size):\n",
    "                        for j in range(img_size):\n",
    "                            B7.append(str(abs(img[i,j][0])))\n",
    "                            B8.append(str(abs(img[i,j][1])))\n",
    "                            B9.append(str(abs(img[i,j][2])))\n",
    "                if imgtype == 'm':\n",
    "                    img= cv2.imread(read_dir+file,3)\n",
    "                    for i in range(img_size):\n",
    "                        for j in range(img_size):\n",
    "                            BM.append(str(abs(img[i,j][0])))\n",
    "    return B1,B2,B3,B4,B5,B6,B7,B8,B9,BM"
   ]
  },
  {
   "cell_type": "code",
   "execution_count": 4,
   "id": "cbfe262d",
   "metadata": {},
   "outputs": [],
   "source": [
    "def process_tiles_TS(foldtype,Tilesize):\n",
    "    '''This is for datasets where we only care about the middle pixel of the largest tile size.\n",
    "    The reason is because this will allow us to compare across tilesizes and models'''\n",
    "    B1,B2,B3,B4,B5,B6,B7,B8,B9,BM=[],[],[],[],[],[],[],[],[],[]\n",
    "    for imgtype in imgtypes: \n",
    "        #defining vars for different sources\n",
    "        read_dir=Top_dir+'\\\\{}_Tiles_ts{}-mega{}\\\\Tiles_{}\\\\'.format(foldtype,Tilesize,\n",
    "                                                                                   megatile_size[0],imgtype)\n",
    "        img_size=megatile_size[0]\n",
    "        for (dirpath, dirnames, filenames) in walk(read_dir):\n",
    "            for file in filenames:\n",
    "                if imgtype == '123':\n",
    "                    #read image as 3 for raw 16bit\n",
    "                    img= cv2.imread(read_dir+file,3)\n",
    "                    img = cv2.cvtColor(img, cv2.COLOR_BGR2RGB)\n",
    "                    mid_pix=img[int(Tilesize/2-.5),int(Tilesize/2-.5)]#find middle pixel\n",
    "                    B1.append(str(abs(mid_pix[0]))) #append the middle pixels to the respective lists\n",
    "                    B2.append(str(abs(mid_pix[1])))\n",
    "                    B3.append(str(abs(mid_pix[2])))\n",
    "                if imgtype == '456':\n",
    "                    img= cv2.imread(read_dir+file,3)\n",
    "                    img = cv2.cvtColor(img, cv2.COLOR_BGR2RGB)\n",
    "                    mid_pix=img[int(Tilesize/2-.5),int(Tilesize/2-.5)]\n",
    "                    B4.append(str(abs(mid_pix[0])))\n",
    "                    B5.append(str(abs(mid_pix[1])))\n",
    "                    B6.append(str(abs(mid_pix[2])))\n",
    "                if imgtype == '789':\n",
    "                    img= cv2.imread(read_dir+file,3)\n",
    "                    img = cv2.cvtColor(img, cv2.COLOR_BGR2RGB)\n",
    "                    mid_pix=img[int(Tilesize/2-.5),int(Tilesize/2-.5)]\n",
    "                    B7.append(str(abs(mid_pix[0])))\n",
    "                    B8.append(str(abs(mid_pix[1])))\n",
    "                    B9.append(str(abs(mid_pix[2])))\n",
    "                if imgtype == 'm':\n",
    "                    img= cv2.imread(read_dir+file,3)\n",
    "                    mid_pix=img[int(Tilesize/2-.5),int(Tilesize/2-.5)]\n",
    "                    BM.append(str(abs(mid_pix[0])))\n",
    "    return B1,B2,B3,B4,B5,B6,B7,B8,B9,BM"
   ]
  },
  {
   "cell_type": "code",
   "execution_count": 5,
   "id": "b24e4312",
   "metadata": {},
   "outputs": [],
   "source": [
    "def create_csv(foldtype):\n",
    "    tr=[BM,B1,B2,B3]\n",
    "    tr2=[B4,B5,B6,B7,B8,B9]\n",
    "    #create 2 dfs since 1 sometimes breaks a limit, then you add them together\n",
    "    df = pd.DataFrame(list(zip(*tr))).add_prefix('Col').astype('int64')\n",
    "    df2=pd.DataFrame(list(zip(*tr2))).add_prefix('Col').astype('int64')\n",
    "    df_n=pd.concat([df, df2], axis=1)\n",
    "    #naming the colums\n",
    "    df_n.columns = [\"Trueval\",'B1','B2','B3','B4','B5','B6','B7','B8','B9']\n",
    "    #drop all no data pixels, which can be determined by Trueval == 255\n",
    "    df_n = df_n.drop(df_n[df_n.Trueval == 255].index)\n",
    "    df_n.to_csv(r'D:\\Training_Data_Creation\\Pointer_files\\{}_Tiles{}.csv'.format(foldtype,megatile_size[0]), index=False)\n",
    "    print('completed creating {} csv'.format(foldtype))"
   ]
  },
  {
   "cell_type": "markdown",
   "id": "7daae741",
   "metadata": {},
   "source": [
    "## Process Data"
   ]
  },
  {
   "cell_type": "code",
   "execution_count": 6,
   "id": "8de7ebcb",
   "metadata": {},
   "outputs": [
    {
     "name": "stdout",
     "output_type": "stream",
     "text": [
      "completed creating Train csv\n",
      "completed creating Val csv\n",
      "completed creating Test csv\n"
     ]
    }
   ],
   "source": [
    "for ft in ['Train','Val']:\n",
    "    B1,B2,B3,B4,B5,B6,B7,B8,B9,BM=process_tiles_mega(ft)\n",
    "    create_csv(ft)\n",
    "#creating csv with middle pixel of the largest test  size for comparison\n",
    "B1,B2,B3,B4,B5,B6,B7,B8,B9,BM=process_tiles_TS('Test',7)\n",
    "create_csv('Test')"
   ]
  },
  {
   "cell_type": "code",
   "execution_count": null,
   "id": "4bf40987",
   "metadata": {},
   "outputs": [],
   "source": []
  }
 ],
 "metadata": {
  "kernelspec": {
   "display_name": "Python 3 (ipykernel)",
   "language": "python",
   "name": "python3"
  },
  "language_info": {
   "codemirror_mode": {
    "name": "ipython",
    "version": 3
   },
   "file_extension": ".py",
   "mimetype": "text/x-python",
   "name": "python",
   "nbconvert_exporter": "python",
   "pygments_lexer": "ipython3",
   "version": "3.8.0"
  }
 },
 "nbformat": 4,
 "nbformat_minor": 5
}
