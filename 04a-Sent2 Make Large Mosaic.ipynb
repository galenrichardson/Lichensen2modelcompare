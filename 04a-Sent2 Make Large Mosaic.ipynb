{
 "cells": [
  {
   "cell_type": "markdown",
   "id": "dd9875be",
   "metadata": {},
   "source": [
    "Citation"
   ]
  },
  {
   "cell_type": "code",
   "execution_count": 1,
   "id": "39474f5f",
   "metadata": {
    "scrolled": true
   },
   "outputs": [
    {
     "data": {
      "text/html": [
       "<p>To authorize access needed by Earth Engine, open the following\n",
       "        URL in a web browser and follow the instructions:</p>\n",
       "        <p><a href=https://code.earthengine.google.com/client-auth?scopes=https%3A//www.googleapis.com/auth/earthengine%20https%3A//www.googleapis.com/auth/devstorage.full_control&request_id=3jdZHFlSfMWMmUPSazR0XpJwEFHKw-LNhAlVQVH863g&tc=Wldx1El6aNkdMaqJ3hOrBtYFz5bmzfmvS842gWdlPV8&cc=UcmQxJPtDPJKwIQ6gd8acBwZhDGOULMCYRMQCRHF0jQ>https://code.earthengine.google.com/client-auth?scopes=https%3A//www.googleapis.com/auth/earthengine%20https%3A//www.googleapis.com/auth/devstorage.full_control&request_id=3jdZHFlSfMWMmUPSazR0XpJwEFHKw-LNhAlVQVH863g&tc=Wldx1El6aNkdMaqJ3hOrBtYFz5bmzfmvS842gWdlPV8&cc=UcmQxJPtDPJKwIQ6gd8acBwZhDGOULMCYRMQCRHF0jQ</a></p>\n",
       "        <p>The authorization workflow will generate a code, which you\n",
       "        should paste in the box below</p>\n",
       "        "
      ],
      "text/plain": [
       "<IPython.core.display.HTML object>"
      ]
     },
     "metadata": {},
     "output_type": "display_data"
    },
    {
     "name": "stdout",
     "output_type": "stream",
     "text": [
      "Enter verification code: 4/1AfgeXvuOXg04ugBwBkxWY3IA8jaI0AgjJ7Rf8iZYljonqjU0HTIK0WAopbg\n",
      "\n",
      "Successfully saved authorization token.\n"
     ]
    }
   ],
   "source": [
    "import ee,json,os,colour,math,csv,geemap\n",
    "import numpy as np\n",
    "import geopandas as geopandas\n",
    "import pandas as pd\n",
    "import datetime\n",
    "ee.Authenticate()\n",
    "ee.Initialize()\n",
    "import time\n",
    "#https://code.earthengine.google.com/0701d40fb1f844cfd376e8e6cbd7d946"
   ]
  },
  {
   "cell_type": "markdown",
   "id": "c3c44555",
   "metadata": {},
   "source": [
    "### Variables"
   ]
  },
  {
   "cell_type": "code",
   "execution_count": 2,
   "id": "a91c2e4c",
   "metadata": {
    "scrolled": true
   },
   "outputs": [
    {
     "name": "stderr",
     "output_type": "stream",
     "text": [
      "C:\\code\\envs\\geemap\\lib\\site-packages\\geopandas\\io\\file.py:299: FutureWarning: pandas.Int64Index is deprecated and will be removed from pandas in a future version. Use pandas.Index with the appropriate dtype instead.\n",
      "  pd.Int64Index,\n"
     ]
    }
   ],
   "source": [
    "in_shp = r'E:\\GIS\\Thesis\\Intermediate Data\\Z_AOIs\\AOI_Paper.shp'\n",
    "AOI = geemap.shp_to_ee(in_shp)\n",
    "#def get_s2_sr_cld_col(aoi, start_date, end_date):"
   ]
  },
  {
   "cell_type": "code",
   "execution_count": 3,
   "id": "7ad3f372",
   "metadata": {},
   "outputs": [
    {
     "name": "stdout",
     "output_type": "stream",
     "text": [
      "18\n"
     ]
    }
   ],
   "source": [
    "def indexJoin(collectionA, collectionB, propertyName):\n",
    "    #joins cloud prob image to Sen2 SR\n",
    "    joined = ee.ImageCollection(ee.Join.saveFirst(propertyName).apply(\n",
    "    primary = collectionA,\n",
    "    secondary = collectionB,\n",
    "    condition = ee.Filter.equals(\n",
    "      leftField = 'system:index',\n",
    "      rightField = 'system:index')))\n",
    "    return joined.map(lambda image: image.addBands(ee.Image(image.get(propertyName))))\n",
    "def maskClouds(img, MAX_CLOUD_PROBABILITY=10):\n",
    "    #removes cloudy pixels using sen2 cloudprob\n",
    "    clouds = ee.Image(img.get('cloud_probability')).select('probability')\n",
    "    isNotCloud = clouds.lt(MAX_CLOUD_PROBABILITY)\n",
    "    return img.updateMask(isNotCloud)\n",
    "def s2_clear_sky(image):\n",
    "    #selects only clear sky pixels using sen2 SCL\n",
    "    scl = image.select('SCL')\n",
    "    clear_sky_pixels = scl.eq(4).Or(scl.eq(5)).Or(scl.eq(6)).Or(scl.eq(7)).Or(scl.eq(11)).Or(scl.eq(0)).Or(scl.eq(2))\n",
    "    return image.updateMask(clear_sky_pixels)\n",
    "def printCollectionSize(collection):\n",
    "    print('Size of image collection:')\n",
    "    print(len(collection['features']))\n",
    "    print('\\n')\n",
    "def ictime (collection):\n",
    "    return image.set('dateDist',ee.Number(image.get('system:time_start')).subtract(date_of_interest.millis()).abs())\n",
    "\n",
    "s2c = ee.ImageCollection('COPERNICUS/S2_CLOUD_PROBABILITY')\n",
    "s2Sr = ee.ImageCollection('COPERNICUS/S2_SR_HARMONIZED')\n",
    "# S2Cloudless for the cloud probability band.\n",
    "s2c = s2c.filterBounds(AOI).filterDate('2019-08-01', '2022-08-31') \\\n",
    ".filter(ee.Filter.calendarRange(8, 8,'month')).sort('dateDist')\n",
    "# S2 L2A for surface reflectance bands.\n",
    "s2Sr = s2Sr.filterBounds(AOI).filterDate('2019-08-01', '2022-08-31') \\\n",
    ".filter(ee.Filter.calendarRange(8, 8,'month')) \\\n",
    ".filterMetadata('CLOUD_COVERAGE_ASSESSMENT', 'less_than', 10).sort('dateDist')\n",
    "\n",
    "s2Sr_SCL=ee.ImageCollection(s2Sr.map(s2_clear_sky)) #applys clear sky mask\n",
    "withCloudProbability = indexJoin(s2Sr_SCL, s2c, 'cloud_probability') #joins cloud prob\n",
    "masked_aug = ee.ImageCollection(withCloudProbability.map(maskClouds))#applies cloud mask\n",
    "nimages = masked_aug.size().getInfo()\n",
    "print(nimages)"
   ]
  },
  {
   "cell_type": "code",
   "execution_count": 4,
   "id": "f5a64ad5",
   "metadata": {},
   "outputs": [
    {
     "name": "stdout",
     "output_type": "stream",
     "text": [
      "9\n"
     ]
    }
   ],
   "source": [
    "s2c = ee.ImageCollection('COPERNICUS/S2_CLOUD_PROBABILITY')\n",
    "s2Sr = ee.ImageCollection('COPERNICUS/S2_SR_HARMONIZED')\n",
    "# S2Cloudless for the cloud probability band.\n",
    "s2c = s2c.filterBounds(AOI).filterDate('2019-07-01', '2022-08-31') \\\n",
    ".filter(ee.Filter.calendarRange(7, 7,'month')).sort('dateDist')\n",
    "# S2 L2A for surface reflectance bands.\n",
    "s2Sr = s2Sr.filterBounds(AOI).filterDate('2019-07-01', '2022-08-31') \\\n",
    ".filter(ee.Filter.calendarRange(7, 7,'month')) \\\n",
    ".filterMetadata('CLOUD_COVERAGE_ASSESSMENT', 'less_than', 10).sort('dateDist')\n",
    "\n",
    "s2Sr_SCL=ee.ImageCollection(s2Sr.map(s2_clear_sky)) #applys clear sky mask\n",
    "withCloudProbability = indexJoin(s2Sr_SCL, s2c, 'cloud_probability') #joins cloud prob\n",
    "masked_july = ee.ImageCollection(withCloudProbability.map(maskClouds))#applies cloud mask\n",
    "nimages = masked_july.size().getInfo()\n",
    "print(nimages)"
   ]
  },
  {
   "cell_type": "code",
   "execution_count": 5,
   "id": "06af4564",
   "metadata": {},
   "outputs": [
    {
     "data": {
      "text/plain": [
       "ee.imagecollection.ImageCollection"
      ]
     },
     "execution_count": 5,
     "metadata": {},
     "output_type": "execute_result"
    }
   ],
   "source": [
    "type(masked_aug)"
   ]
  },
  {
   "cell_type": "code",
   "execution_count": 6,
   "id": "88a31432",
   "metadata": {
    "scrolled": false
   },
   "outputs": [
    {
     "data": {
      "application/vnd.jupyter.widget-view+json": {
       "model_id": "399156c3110243e38f47a3e8e6b9cb84",
       "version_major": 2,
       "version_minor": 0
      },
      "text/plain": [
       "Map(center=[52.747633082881386, -67.10133488692263], controls=(WidgetControl(options=['position', 'transparent…"
      ]
     },
     "metadata": {},
     "output_type": "display_data"
    }
   ],
   "source": [
    "#cleaning for median reducer\n",
    "#combined_img_meadian=masked.median().clip(AOI)\n",
    "#combined_img_meadian=combined_img_meadian.select(['B2','B3','B4','B5','B6','B7','B8','B11','B12'])\n",
    "\n",
    "#cleaning for image stack\n",
    "s2_aug_stack=masked_aug.mosaic().clip(AOI).select(['B2','B3','B4','B5','B6','B7','B8','B11','B12'])\n",
    "s2_july_stack=masked_july.mosaic().clip(AOI).select(['B2','B3','B4','B5','B6','B7','B8','B11','B12'])\n",
    "\n",
    "combo_stack=ee.ImageCollection([s2_july_stack,s2_aug_stack]).mosaic()\n",
    "\n",
    "#can used median for median reducer\n",
    "Sen2vis = {'bands': ['B4', 'B3', 'B2'],'min': 0,'max': 3000,'gamma': 1.4,}\n",
    "Sen2vis_p = {'bands': ['B4_p90', 'B3_p90', 'B2_p90'],'min': 0,'max': 3000,'gamma': 1.4,}\n",
    "Map = geemap.Map()\n",
    "#Map.addLayer(combined_img_meadian, Sen2vis, 'median')\n",
    "Map.addLayer(combo_stack, Sen2vis, 'combo')\n",
    "Map.addLayer(s2_aug_stack, Sen2vis, 'Aug')\n",
    "Map.addLayer(s2_july_stack, Sen2vis, 'July')\n",
    "Map.addLayerControl()\n",
    "Map.centerObject(AOI,10)\n",
    "Map"
   ]
  },
  {
   "cell_type": "code",
   "execution_count": 7,
   "id": "b8feccc1",
   "metadata": {
    "scrolled": true
   },
   "outputs": [
    {
     "name": "stdout",
     "output_type": "stream",
     "text": [
      "Exporting Sen2_AOI_Paper_harmonized_Stacked_08_2022 ...\n"
     ]
    }
   ],
   "source": [
    "#If large image use this\n",
    "aoi_g= AOI.geometry()\n",
    "geemap.ee_export_image_to_drive(\n",
    "    s2_aug_stack, description='Sen2_AOI_Paper_harmonized_Stacked_08_2022', folder='export', region=aoi_g, scale=10, \n",
    ")\n"
   ]
  },
  {
   "cell_type": "code",
   "execution_count": null,
   "id": "9e409356",
   "metadata": {},
   "outputs": [],
   "source": []
  }
 ],
 "metadata": {
  "kernelspec": {
   "display_name": "Python 3 (ipykernel)",
   "language": "python",
   "name": "python3"
  },
  "language_info": {
   "codemirror_mode": {
    "name": "ipython",
    "version": 3
   },
   "file_extension": ".py",
   "mimetype": "text/x-python",
   "name": "python",
   "nbconvert_exporter": "python",
   "pygments_lexer": "ipython3",
   "version": "3.9.12"
  }
 },
 "nbformat": 4,
 "nbformat_minor": 5
}
