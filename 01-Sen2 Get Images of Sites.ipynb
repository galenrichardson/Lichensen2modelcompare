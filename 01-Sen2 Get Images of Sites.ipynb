{
 "cells": [
  {
   "cell_type": "markdown",
   "id": "2a1a653b",
   "metadata": {},
   "source": [
    "Citation"
   ]
  },
  {
   "cell_type": "code",
   "execution_count": 1,
   "id": "39474f5f",
   "metadata": {},
   "outputs": [
    {
     "data": {
      "text/html": [
       "<p>To authorize access needed by Earth Engine, open the following\n",
       "        URL in a web browser and follow the instructions:</p>\n",
       "        <p><a href=https://code.earthengine.google.com/client-auth?scopes=https%3A//www.googleapis.com/auth/earthengine%20https%3A//www.googleapis.com/auth/devstorage.full_control&request_id=hT2hsF2D5Tbp-fEpR3dsXfDBSwYUeLFCdn3wNGBg4Lc&tc=sUxBzIumU8vvLu2pZX5_IxsFIp0--sXciAle2sCLiz8&cc=NzF5ep4XSCwcxLkT02tRtVFuxCfiQE-jo0XAYVyb-oY>https://code.earthengine.google.com/client-auth?scopes=https%3A//www.googleapis.com/auth/earthengine%20https%3A//www.googleapis.com/auth/devstorage.full_control&request_id=hT2hsF2D5Tbp-fEpR3dsXfDBSwYUeLFCdn3wNGBg4Lc&tc=sUxBzIumU8vvLu2pZX5_IxsFIp0--sXciAle2sCLiz8&cc=NzF5ep4XSCwcxLkT02tRtVFuxCfiQE-jo0XAYVyb-oY</a></p>\n",
       "        <p>The authorization workflow will generate a code, which you\n",
       "        should paste in the box below</p>\n",
       "        "
      ],
      "text/plain": [
       "<IPython.core.display.HTML object>"
      ]
     },
     "metadata": {},
     "output_type": "display_data"
    },
    {
     "name": "stdout",
     "output_type": "stream",
     "text": [
      "Enter verification code: 4/1AfgeXvsM_nE0ekyDji4hiK3h5s_lIZNd0LfJuWadtwB2JcS3KsJng16xeDk\n",
      "\n",
      "Successfully saved authorization token.\n"
     ]
    },
    {
     "data": {
      "text/plain": [
       "'Tested other values for cloud prob'"
      ]
     },
     "execution_count": 1,
     "metadata": {},
     "output_type": "execute_result"
    }
   ],
   "source": [
    "import ee,json,os,colour,math,csv,geemap\n",
    "import numpy as np\n",
    "import geopandas as geopandas\n",
    "import pandas as pd\n",
    "import datetime\n",
    "ee.Authenticate()\n",
    "ee.Initialize()\n",
    "import time\n",
    "'''Tested other values for cloud prob'''\n",
    "#https://developers.google.com/earth-engine/tutorials/community/sentinel-2-s2cloudless"
   ]
  },
  {
   "cell_type": "markdown",
   "id": "c3c44555",
   "metadata": {},
   "source": [
    "### Variables"
   ]
  },
  {
   "cell_type": "code",
   "execution_count": 236,
   "id": "a91c2e4c",
   "metadata": {},
   "outputs": [],
   "source": [
    "site='d3'\n",
    "in_shp = r'E:\\GIS\\Thesis\\Intermediate Data\\Z_AOIs\\{}_AOI.shp'.format(site)\n",
    "Start_date,End_Date=\"2019-08-05\",\"2019-08-28\"\n",
    "#Start_date,End_Date=\"2022-08-01\",\"2022-08-31\"\n",
    "sen2= ee.ImageCollection('COPERNICUS/S2_SR_HARMONIZED')\n",
    "\n",
    "#Cloud variables for detecting clouds and deciding tolerences\n",
    "#MAX_CLOUD_PROBABILITY = 10\n",
    "MAX_CLOUD_PROBABILITY = 50\n",
    "#Cloudy_Percentage is how much cloudyness you are ok with in your mosaics.\n",
    "#Set to very low value\n",
    "#Cloudy_Percentage=.01\n",
    "Cloudy_Percentage=.1"
   ]
  },
  {
   "cell_type": "code",
   "execution_count": 237,
   "id": "0d3dc89d",
   "metadata": {},
   "outputs": [],
   "source": [
    "def shift_time(start_date, day_increment):\n",
    "    date_1 = datetime.datetime.strptime(start_date, \"%Y-%m-%d\")\n",
    "    end_date = date_1 + datetime.timedelta(days=day_increment)\n",
    "    return date_1.strftime(\"%Y-%m-%d\"),end_date.strftime(\"%Y-%m-%d\")\n",
    "def mask_to_cloud(image):\n",
    "    #Isolates the clouds in an image\n",
    "    qa = image.select('MSK_CLDPRB')\n",
    "    cloud = qa.lt(MAX_CLOUD_PROBABILITY)\n",
    "    return image.updateMask(cloud) "
   ]
  },
  {
   "cell_type": "code",
   "execution_count": 238,
   "id": "eef356e0",
   "metadata": {},
   "outputs": [
    {
     "name": "stderr",
     "output_type": "stream",
     "text": [
      "C:\\code\\envs\\geemap\\lib\\site-packages\\geopandas\\io\\file.py:299: FutureWarning: pandas.Int64Index is deprecated and will be removed from pandas in a future version. Use pandas.Index with the appropriate dtype instead.\n",
      "  pd.Int64Index,\n"
     ]
    }
   ],
   "source": [
    "aoi = geemap.shp_to_ee(in_shp)\n",
    "L_Dates = []\n",
    "start = datetime.datetime.strptime(Start_date, \"%Y-%m-%d\")\n",
    "#Pix_count_date is a date series used to calculate how many pixels in AOI\n",
    "Pix_count_date=start + datetime.timedelta(days=15)\n",
    "end = datetime.datetime.strptime(End_Date, \"%Y-%m-%d\")\n",
    "date_generated = [start + datetime.timedelta(days=x) for x in range(0, (end-start).days,2)]\n",
    "for date in date_generated:\n",
    "    #Creates a list of Dates within start_date and end_date\n",
    "    L_Dates.append(date.strftime(\"%Y-%m-%d\"))"
   ]
  },
  {
   "cell_type": "markdown",
   "id": "052258b8",
   "metadata": {},
   "source": [
    "#### Determining number of Pixels in AOI and AOI Cloudy Threshold"
   ]
  },
  {
   "cell_type": "code",
   "execution_count": 239,
   "id": "63e97cd0",
   "metadata": {
    "scrolled": true
   },
   "outputs": [
    {
     "name": "stdout",
     "output_type": "stream",
     "text": [
      "2722 is the number of B2 pixels in the AOI.\n",
      "272 is the Cloudy Threshold\n"
     ]
    }
   ],
   "source": [
    "#Create a mosaic of Sen2 Pix in AOI\n",
    "full_isle = sen2.filterBounds(aoi) \\\n",
    "                                    .filter(ee.Filter.date(Start_date,Pix_count_date))\n",
    "full_img=full_isle.mosaic()\n",
    "#Count number of pixels in AOI\n",
    "count_full = full_img.reduceRegion(**{'reducer': ee.Reducer.count(),'geometry': aoi.geometry(),'scale': 10,'maxPixels': 1e9})\n",
    "count_full=count_full.get('B2').getInfo()\n",
    "#Calculate AOI Cloudy Threshold\n",
    "cloud_thresh=int(count_full*Cloudy_Percentage)\n",
    "print(\"{} is the number of B2 pixels in the AOI.\\n{} is the Cloudy Threshold\".format(count_full,cloud_thresh))"
   ]
  },
  {
   "cell_type": "code",
   "execution_count": 240,
   "id": "d33bd5f3",
   "metadata": {},
   "outputs": [
    {
     "name": "stdout",
     "output_type": "stream",
     "text": [
      "Testing all the dates in the summer date range\n",
      " Testing a mosaic to see if complete\n",
      "  Mosaic passed completeness test, now testing for clouds\n",
      "   Mosaic passed, has very low to no cloud coverage\n",
      "2019-08-07 to 2019-08-09 has 2 images and coveres all of the AOI\n",
      " Testing a mosaic to see if complete\n",
      "  Mosaic passed completeness test, now testing for clouds\n",
      "2019-08-15 to 2019-08-17 has 2 images and coveres all of the AOI\n",
      " Testing a mosaic to see if complete\n",
      "  Mosaic passed completeness test, now testing for clouds\n",
      "2019-08-17 to 2019-08-19 has 2 images and coveres all of the AOI\n",
      " Testing a mosaic to see if complete\n",
      "  Mosaic passed completeness test, now testing for clouds\n",
      "   Mosaic passed, has very low to no cloud coverage\n",
      "2019-08-25 to 2019-08-27 has 2 images and coveres all of the AOI\n",
      " Testing a mosaic to see if complete\n",
      "  Mosaic passed completeness test, now testing for clouds\n",
      "   Mosaic passed, has very low to no cloud coverage\n",
      "2019-08-27 to 2019-08-29 has 2 images and coveres all of the AOI\n",
      "5 number of date ranges taking 6.711003303527832sec to retreive\n"
     ]
    }
   ],
   "source": [
    "start = time.time()\n",
    "selected_dates=[]\n",
    "num_date_range=0\n",
    "print('Testing all the dates in the summer date range')\n",
    "for i in L_Dates:\n",
    "    V=shift_time(i, 2)\n",
    "    sen2_isles = sen2.filterBounds(aoi) \\\n",
    "                                    .filter(ee.Filter.date(V[0],V[1])) \\\n",
    "                                    .filterMetadata('CLOUD_COVERAGE_ASSESSMENT', 'less_than', 50)\n",
    "    #Sort by latest image so if there are multiple in an overlap the latest one is chosen\n",
    "    sen2_isles=sen2_isles.sort('system:time_start', False) \n",
    "    #imgnum is the number of images retreived using the given dates\n",
    "    img_num=len(sen2_isles.getInfo()['features'])\n",
    "    if img_num >0:\n",
    "        print(' Testing a mosaic to see if complete')\n",
    "        img=sen2_isles.mosaic()\n",
    "        #Counting the number of pixels in the mosaic to see how they compare to the known full image\n",
    "        count = img.reduceRegion(**{'reducer': ee.Reducer.count(),'geometry': aoi.geometry(),'scale': 10,'maxPixels': 1e9})\n",
    "        count = count.get('B2').getInfo()\n",
    "        if count > (count_full-1000):\n",
    "            print('  Mosaic passed completeness test, now testing for clouds')\n",
    "            #Create a mask which just shows the clouds\n",
    "            sen2_isles_CM=sen2_isles.map(mask_to_cloud)\n",
    "            img=sen2_isles_CM.mosaic()\n",
    "            count = img.reduceRegion(**{'reducer': ee.Reducer.count(),'geometry': aoi.geometry(),'scale': 10,'maxPixels': 1e9})\n",
    "            count_clouds = count.get('B2').getInfo()\n",
    "            #Comparing cloudy pixels to the cloud threshold\n",
    "            if count_clouds>count_full-cloud_thresh:\n",
    "                print('   Mosaic passed, has very low to no cloud coverage')\n",
    "                fet_name=sen2_isles.getInfo()['id']\n",
    "                #Appending the optimal dates to a list\n",
    "            selected_dates.append([V[0],V[1]])\n",
    "            num_date_range+=1\n",
    "            print ('{} to {} has {} images and coveres all of the AOI'.format(V[0],V[1],img_num))\n",
    "        else:\n",
    "            print (' Failed, due to clouds')\n",
    "end = time.time()\n",
    "print('{} number of date ranges taking {}sec to retreive'.format(num_date_range,str((end - start))))"
   ]
  },
  {
   "cell_type": "code",
   "execution_count": 241,
   "id": "54a93644",
   "metadata": {},
   "outputs": [
    {
     "data": {
      "application/vnd.jupyter.widget-view+json": {
       "model_id": "8cbfd8356dc34fcd98ffcad4a3812998",
       "version_major": 2,
       "version_minor": 0
      },
      "text/plain": [
       "Map(center=[53.47919804442465, -64.85701659563988], controls=(WidgetControl(options=['position', 'transparent_…"
      ]
     },
     "metadata": {},
     "output_type": "display_data"
    }
   ],
   "source": [
    "Map = geemap.Map()\n",
    "Sen2vis = {'bands': ['B4', 'B3', 'B2'],'min': 0,'max': 3000,'gamma': 1.4,}\n",
    "SHPViz ={'color': 'Blue' }\n",
    "imcollist=[]\n",
    "for Timeframe in range(num_date_range):\n",
    "    isle = sen2.filterBounds(aoi) \\\n",
    "        .filter(ee.Filter.date(selected_dates[Timeframe][0],selected_dates[Timeframe][1]))  \\\n",
    "        .filterMetadata('CLOUD_COVERAGE_ASSESSMENT', 'less_than', 50)\n",
    "    isle=isle.sort('system:time_start', False)\n",
    "    #creation of an image collection list\n",
    "    imcollist.append(isle)\n",
    "    Map.addLayer(isle, Sen2vis, '{} image'.format(selected_dates[Timeframe][0]))\n",
    "Map.addLayer(aoi, SHPViz, 'AOI')\n",
    "Map.addLayerControl()\n",
    "Map.centerObject(aoi,16)\n",
    "Map"
   ]
  },
  {
   "cell_type": "code",
   "execution_count": 242,
   "id": "ada0e713",
   "metadata": {},
   "outputs": [
    {
     "name": "stdout",
     "output_type": "stream",
     "text": [
      "[<ee.image.Image object at 0x0000022A1B6CA130>, <ee.image.Image object at 0x0000022A1B439400>, <ee.image.Image object at 0x0000022A1BE68B20>, <ee.image.Image object at 0x0000022A1BD9BFA0>, <ee.image.Image object at 0x0000022A1BD0AC10>]\n"
     ]
    }
   ],
   "source": [
    "imcollist\n",
    "imnamelist=[]\n",
    "for i in imcollist:\n",
    "    img=(i.getInfo())\n",
    "    #this only gets the info for first image. need to make iterator if there are multiple images in each image collection\n",
    "    img_name=r'COPERNICUS/S2/'+(img['features'][0]['properties']['system:index'])\n",
    "    imnamelist.append(ee.Image(img_name))\n",
    "print(imnamelist)\n",
    "combined_img=ee.ImageCollection.fromImages(imnamelist)\n",
    "#System index is the GEE name for Sen 2 images\n",
    "r'COPERNICUS/S2/'+(img['features'][0]['properties']['system:index'])\n",
    "combined_img_meadian=combined_img.median()"
   ]
  },
  {
   "cell_type": "code",
   "execution_count": 244,
   "id": "94407c13",
   "metadata": {},
   "outputs": [
    {
     "data": {
      "application/vnd.jupyter.widget-view+json": {
       "model_id": "c957f4b28bfd474da9e61188e007a433",
       "version_major": 2,
       "version_minor": 0
      },
      "text/plain": [
       "Map(center=[53.47919804442465, -64.85701659563988], controls=(WidgetControl(options=['position', 'transparent_…"
      ]
     },
     "metadata": {},
     "output_type": "display_data"
    }
   ],
   "source": [
    "#can used median for median reducer\n",
    "Sen2vis = {'bands': ['B4', 'B3', 'B2'],'min': 0,'max': 3000,'gamma': 1.4,}\n",
    "Map = geemap.Map()\n",
    "closest_date=imcollist[3].mosaic()\n",
    "#Map.addLayer(combined_img_meadian, Sen2vis, 'median')\n",
    "Map.addLayer(closest_date, Sen2vis, 'closest')\n",
    "Map.addLayerControl()\n",
    "Map.centerObject(aoi,16)\n",
    "Map"
   ]
  },
  {
   "cell_type": "code",
   "execution_count": 245,
   "id": "bc20d3e6",
   "metadata": {
    "scrolled": true
   },
   "outputs": [
    {
     "name": "stdout",
     "output_type": "stream",
     "text": [
      "Generating URL ...\n",
      "Downloading data from https://earthengine.googleapis.com/v1alpha/projects/earthengine-legacy/thumbnails/cf9bbdf694cebe8c8be982c5be997beb-c9d79241c508998bceda55857c737c48:getPixels\n",
      "Please wait ...\n",
      "Data downloaded to E:\\GIS\\Thesis\\Intermediate Data\\d3\\Sen2\n",
      "done\n"
     ]
    }
   ],
   "source": [
    "# Download the data\n",
    "#can also set to imcollist[img] (use closest date and set the list value)\n",
    "\n",
    "#median_mosaic=combined_img_meadian.mosaic()\n",
    "#closest_date=imcollist[4].mosaic()\n",
    "aoi_g= aoi.geometry()\n",
    "\n",
    "geemap.ee_export_image(closest_date, filename=r'E:\\GIS\\Thesis\\Intermediate Data\\{}\\Sen2\\Sen_{}.tif'.format(site,site), scale=10,region=aoi_g, file_per_band=True)\n",
    "print('done')"
   ]
  },
  {
   "cell_type": "markdown",
   "id": "15f69527",
   "metadata": {},
   "source": [
    "\n"
   ]
  },
  {
   "cell_type": "code",
   "execution_count": null,
   "id": "97b6ac9c",
   "metadata": {},
   "outputs": [],
   "source": []
  }
 ],
 "metadata": {
  "kernelspec": {
   "display_name": "Python 3 (ipykernel)",
   "language": "python",
   "name": "python3"
  },
  "language_info": {
   "codemirror_mode": {
    "name": "ipython",
    "version": 3
   },
   "file_extension": ".py",
   "mimetype": "text/x-python",
   "name": "python",
   "nbconvert_exporter": "python",
   "pygments_lexer": "ipython3",
   "version": "3.9.12"
  }
 },
 "nbformat": 4,
 "nbformat_minor": 5
}
